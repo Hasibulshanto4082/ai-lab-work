{
  "cells": [
    {
      "cell_type": "code",
      "execution_count": null,
      "metadata": {
        "colab": {
          "base_uri": "https://localhost:8080/"
        },
        "id": "a8I5ZbKbE7-e",
        "outputId": "3e27e5bb-df6e-4577-9c05-29a196d45bd1"
      },
      "outputs": [
        {
          "name": "stdout",
          "output_type": "stream",
          "text": [
            "AI lab Task\n"
          ]
        }
      ],
      "source": [
        "print('AI lab Task')"
      ]
    },
    {
      "cell_type": "code",
      "execution_count": null,
      "metadata": {
        "colab": {
          "base_uri": "https://localhost:8080/"
        },
        "id": "n0UHgGOaFSW3",
        "outputId": "a0a89e6d-6116-4347-d826-787529469b70"
      },
      "outputs": [
        {
          "data": {
            "text/plain": [
              "[1, 2, 3, 4, 5, 6, 7, 8, 9]"
            ]
          },
          "execution_count": 5,
          "metadata": {},
          "output_type": "execute_result"
        }
      ],
      "source": [
        "list=[1,2,3,4,5,6,7,8,9]\n",
        "list"
      ]
    },
    {
      "cell_type": "code",
      "execution_count": null,
      "metadata": {
        "colab": {
          "base_uri": "https://localhost:8080/"
        },
        "id": "eTPhYTPLFc52",
        "outputId": "ca5f3c12-d852-445b-b763-70a62f4be4bd"
      },
      "outputs": [
        {
          "data": {
            "text/plain": [
              "[1, 2, 3, 4, 5, 6, 7, 8, 9, 10]"
            ]
          },
          "execution_count": 6,
          "metadata": {},
          "output_type": "execute_result"
        }
      ],
      "source": [
        "list.append(10)\n",
        "listl"
      ]
    },
    {
      "cell_type": "code",
      "execution_count": null,
      "metadata": {
        "colab": {
          "base_uri": "https://localhost:8080/"
        },
        "id": "idpTt3JPGf84",
        "outputId": "1917cc6b-87fe-4779-f028-c61d0f8db9ce"
      },
      "outputs": [
        {
          "data": {
            "text/plain": [
              "[10, 9, 8, 7, 6, 5, 4, 3, 2, 1]"
            ]
          },
          "execution_count": 8,
          "metadata": {},
          "output_type": "execute_result"
        }
      ],
      "source": [
        "list.reverse()\n",
        "list"
      ]
    },
    {
      "cell_type": "code",
      "execution_count": null,
      "metadata": {
        "colab": {
          "base_uri": "https://localhost:8080/"
        },
        "id": "JGb8f3wxGq8A",
        "outputId": "93a4abdf-df2b-489b-ffb6-211198609265"
      },
      "outputs": [
        {
          "data": {
            "text/plain": [
              "[10, 9, 8, 7, 6, 5, 4, 3, 2]"
            ]
          },
          "execution_count": 9,
          "metadata": {},
          "output_type": "execute_result"
        }
      ],
      "source": [
        "list.pop()\n",
        "list"
      ]
    },
    {
      "cell_type": "code",
      "execution_count": null,
      "metadata": {
        "colab": {
          "base_uri": "https://localhost:8080/"
        },
        "id": "A1G0qVAkGyFN",
        "outputId": "50e981ad-4db1-4be8-fa59-f7c7e144ed28"
      },
      "outputs": [
        {
          "data": {
            "text/plain": [
              "[2, 3, 4, 5, 6, 7, 8, 9, 10]"
            ]
          },
          "execution_count": 10,
          "metadata": {},
          "output_type": "execute_result"
        }
      ],
      "source": [
        "list.reverse()\n",
        "list"
      ]
    },
    {
      "cell_type": "code",
      "execution_count": null,
      "metadata": {
        "colab": {
          "base_uri": "https://localhost:8080/"
        },
        "id": "-rcffMOPG2h4",
        "outputId": "348139d6-8d9c-4e5e-bf8b-85f2bdf65ca7"
      },
      "outputs": [
        {
          "data": {
            "text/plain": [
              "[2, 3, 4, 5, 6, 7, 8, 9]"
            ]
          },
          "execution_count": 11,
          "metadata": {},
          "output_type": "execute_result"
        }
      ],
      "source": [
        "list.pop()\n",
        "list"
      ]
    },
    {
      "cell_type": "code",
      "execution_count": null,
      "metadata": {
        "colab": {
          "base_uri": "https://localhost:8080/"
        },
        "id": "_oWJmInTG29j",
        "outputId": "fddb3357-5fb0-476e-f434-b239a99f87a8"
      },
      "outputs": [
        {
          "data": {
            "text/plain": [
              "[2, 1, 1, 3, 4, 5, 6, 7, 8, 9]"
            ]
          },
          "execution_count": 13,
          "metadata": {},
          "output_type": "execute_result"
        }
      ],
      "source": [
        "list.insert(1,1)\n",
        "list"
      ]
    }
  ],
  "metadata": {
    "colab": {
      "provenance": []
    },
    "kernelspec": {
      "display_name": "Python 3",
      "name": "python3"
    },
    "language_info": {
      "name": "python"
    }
  },
  "nbformat": 4,
  "nbformat_minor": 0
}